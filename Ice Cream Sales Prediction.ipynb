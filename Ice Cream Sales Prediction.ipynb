{
 "cells": [
  {
   "cell_type": "code",
   "execution_count": 1,
   "id": "3d2a36f1",
   "metadata": {},
   "outputs": [],
   "source": [
    "# Importing useful libraries\n",
    "import pandas as pd\n",
    "import numpy as np\n",
    "import matplotlib.pyplot as plt\n",
    "import seaborn as sns\n",
    "%matplotlib inline"
   ]
  },
  {
   "cell_type": "code",
   "execution_count": null,
   "id": "d98a4801",
   "metadata": {},
   "outputs": [],
   "source": [
    "# load data and display head\n",
    "data = pd.read_excel('Train.xlsx')\n",
    "data.head()"
   ]
  },
  {
   "cell_type": "code",
   "execution_count": null,
   "id": "fc98ee72",
   "metadata": {},
   "outputs": [],
   "source": [
    "print(f'data has {data.shape[0]} rows and {data.shape[1]} columns')"
   ]
  },
  {
   "cell_type": "code",
   "execution_count": null,
   "id": "0c17e91b",
   "metadata": {},
   "outputs": [],
   "source": [
    "# Check statistics of data\n",
    "data.describe(include='all')"
   ]
  },
  {
   "cell_type": "code",
   "execution_count": null,
   "id": "bf3e9dee",
   "metadata": {},
   "outputs": [],
   "source": [
    "data = data.rename(columns={'Weekday (Mon = 1; Sun = 7)':'Weekday', 'Public Holiday?':'Public Holiday',\n",
    "                           'Special Event?':'Special Event', 'Max. Wind (km/h)':'Max. Wind'})"
   ]
  },
  {
   "cell_type": "code",
   "execution_count": null,
   "id": "1f4fb71b",
   "metadata": {},
   "outputs": [],
   "source": [
    "data.info()"
   ]
  },
  {
   "cell_type": "code",
   "execution_count": null,
   "id": "7e1504c2",
   "metadata": {},
   "outputs": [],
   "source": [
    "# Separate data into categorical and numerical types\n",
    "categorical_features = ['Weekday', 'Public Holiday', 'Special Event', 'Store open?']\n",
    "\n",
    "numerical_features = ['Min. Temp', 'Max. Temp', 'Avg. Temp', 'Precipitation', 'Sunshine Hours', 'Max. Wind',]"
   ]
  },
  {
   "cell_type": "code",
   "execution_count": null,
   "id": "67fd2483",
   "metadata": {},
   "outputs": [],
   "source": [
    "data.isna().sum()"
   ]
  },
  {
   "cell_type": "code",
   "execution_count": null,
   "id": "cf96c4b3",
   "metadata": {},
   "outputs": [],
   "source": [
    "data['Public Holiday'].unique()"
   ]
  },
  {
   "cell_type": "code",
   "execution_count": null,
   "id": "4968dcca",
   "metadata": {},
   "outputs": [],
   "source": [
    "data['Public Holiday']=data['Public Holiday'].fillna('No')"
   ]
  },
  {
   "cell_type": "code",
   "execution_count": null,
   "id": "aad434fd",
   "metadata": {},
   "outputs": [],
   "source": [
    "data['Public Holiday'].nunique()"
   ]
  },
  {
   "cell_type": "code",
   "execution_count": null,
   "id": "3b8db057",
   "metadata": {},
   "outputs": [],
   "source": [
    "data['Public Holiday'].unique()"
   ]
  },
  {
   "cell_type": "code",
   "execution_count": null,
   "id": "0de91648",
   "metadata": {},
   "outputs": [],
   "source": [
    "data['Special Event'].nunique()"
   ]
  },
  {
   "cell_type": "code",
   "execution_count": null,
   "id": "108e6fed",
   "metadata": {},
   "outputs": [],
   "source": [
    "data['Special Event'].unique()"
   ]
  },
  {
   "cell_type": "code",
   "execution_count": null,
   "id": "6dbb26b9",
   "metadata": {},
   "outputs": [],
   "source": [
    "data['Special Event'] = data['Special Event'].fillna('No')"
   ]
  },
  {
   "cell_type": "code",
   "execution_count": null,
   "id": "ef95f1db",
   "metadata": {},
   "outputs": [],
   "source": [
    "data['Special Event'].unique()"
   ]
  },
  {
   "cell_type": "code",
   "execution_count": null,
   "id": "8b572b7d",
   "metadata": {},
   "outputs": [],
   "source": [
    "data['Store open?'].unique()"
   ]
  },
  {
   "cell_type": "code",
   "execution_count": null,
   "id": "88b0b8f2",
   "metadata": {},
   "outputs": [],
   "source": [
    "data['Store open?'].nunique()"
   ]
  },
  {
   "cell_type": "code",
   "execution_count": null,
   "id": "9e721a35",
   "metadata": {},
   "outputs": [],
   "source": [
    "data['Food sales'] = np.where((data['Store open?'] == 'No'), 0, data['Food sales'])"
   ]
  },
  {
   "cell_type": "code",
   "execution_count": null,
   "id": "246ff9de",
   "metadata": {},
   "outputs": [],
   "source": [
    "data.isna().sum()"
   ]
  },
  {
   "cell_type": "code",
   "execution_count": null,
   "id": "0aab75f5",
   "metadata": {
    "scrolled": true
   },
   "outputs": [],
   "source": [
    "data.loc[data[\"Max. Wind\"]==\"-\"]"
   ]
  },
  {
   "cell_type": "code",
   "execution_count": null,
   "id": "2436bf79",
   "metadata": {},
   "outputs": [],
   "source": [
    "data['Max. Wind'] = data['Max. Wind'].replace(\"-\", 0).astype('float64')"
   ]
  },
  {
   "cell_type": "code",
   "execution_count": null,
   "id": "e662597d",
   "metadata": {},
   "outputs": [],
   "source": [
    "\n",
    "sns.histplot(x=data['Max. Wind'], binwidth=2)\n"
   ]
  },
  {
   "cell_type": "code",
   "execution_count": null,
   "id": "2ae5c272",
   "metadata": {},
   "outputs": [],
   "source": [
    "data['Max. Wind'].median()"
   ]
  },
  {
   "cell_type": "code",
   "execution_count": null,
   "id": "ecbe1948",
   "metadata": {},
   "outputs": [],
   "source": [
    "mode = data['Max. Wind'].mode()\n",
    "mode"
   ]
  },
  {
   "cell_type": "code",
   "execution_count": null,
   "id": "31126ecd",
   "metadata": {},
   "outputs": [],
   "source": [
    "data['Max. Wind'] = data['Max. Wind'].replace(0, 35)"
   ]
  },
  {
   "cell_type": "code",
   "execution_count": null,
   "id": "ec77db96",
   "metadata": {},
   "outputs": [],
   "source": [
    "sns.histplot(x=data['Max. Wind'], binwidth=2)"
   ]
  },
  {
   "cell_type": "code",
   "execution_count": null,
   "id": "5348e342",
   "metadata": {},
   "outputs": [],
   "source": [
    "sns.regplot(x='Food sales', y='Weekday', data=data)"
   ]
  },
  {
   "cell_type": "code",
   "execution_count": null,
   "id": "f7e1a955",
   "metadata": {},
   "outputs": [],
   "source": [
    "sns.pairplot(data)"
   ]
  },
  {
   "cell_type": "code",
   "execution_count": null,
   "id": "320cf367",
   "metadata": {},
   "outputs": [],
   "source": [
    "corr_matrix = data.corr()\n",
    "corr_matrix"
   ]
  },
  {
   "cell_type": "code",
   "execution_count": null,
   "id": "f83446bb",
   "metadata": {},
   "outputs": [],
   "source": [
    "fig,ax = plt.subplots(figsize=(15,10))\n",
    "ax = sns.heatmap(corr_matrix, annot=True, fmt='.2f')"
   ]
  },
  {
   "cell_type": "markdown",
   "id": "a3397e0a",
   "metadata": {},
   "source": [
    "### Data Modelling"
   ]
  },
  {
   "cell_type": "code",
   "execution_count": null,
   "id": "6567b953",
   "metadata": {},
   "outputs": [],
   "source": [
    "from sklearn.preprocessing import LabelEncoder\n",
    "labelencoder = LabelEncoder()\n",
    "cat_feat = ['Public Holiday', 'Special Event', 'Store open?']\n",
    "\n",
    "for i in cat_feat:\n",
    "    data[i] = labelencoder.fit_transform(data[i])\n",
    "    \n",
    "data.head()"
   ]
  },
  {
   "cell_type": "code",
   "execution_count": null,
   "id": "1c1a9fc0",
   "metadata": {},
   "outputs": [],
   "source": [
    "corr_matrix = data.corr()\n",
    "corr_matrix"
   ]
  },
  {
   "cell_type": "code",
   "execution_count": null,
   "id": "9139270a",
   "metadata": {},
   "outputs": [],
   "source": [
    "data['Special Event'].nunique()"
   ]
  },
  {
   "cell_type": "code",
   "execution_count": null,
   "id": "3ed17d46",
   "metadata": {},
   "outputs": [],
   "source": [
    "data['Special Event'] = np.where((data['Special Event'] == 'NaN'), 0, data['Special Event'])"
   ]
  },
  {
   "cell_type": "code",
   "execution_count": null,
   "id": "6bb0e17b",
   "metadata": {},
   "outputs": [],
   "source": [
    "data['Special Event'].head()"
   ]
  },
  {
   "cell_type": "code",
   "execution_count": null,
   "id": "ee5246ff",
   "metadata": {},
   "outputs": [],
   "source": [
    "data['Special Event']=data['Special Event'].fillna('No')"
   ]
  },
  {
   "cell_type": "code",
   "execution_count": null,
   "id": "38d772a5",
   "metadata": {},
   "outputs": [],
   "source": [
    "data['Special Event'].head()"
   ]
  },
  {
   "cell_type": "code",
   "execution_count": null,
   "id": "50408e6b",
   "metadata": {},
   "outputs": [],
   "source": [
    "from sklearn.preprocessing import LabelEncoder\n",
    "labelencoder = LabelEncoder()\n",
    "cat_feat = ['Public Holiday', 'Special Event', 'Store open?']\n",
    "\n",
    "for i in cat_feat:\n",
    "    data[i] = labelencoder.fit_transform(data[i])\n",
    "    \n",
    "data.head()"
   ]
  },
  {
   "cell_type": "code",
   "execution_count": null,
   "id": "29f62ce9",
   "metadata": {},
   "outputs": [],
   "source": [
    "data = data.drop('Date', axis=1)"
   ]
  },
  {
   "cell_type": "code",
   "execution_count": null,
   "id": "47593ee9",
   "metadata": {},
   "outputs": [],
   "source": [
    "data.head()"
   ]
  },
  {
   "cell_type": "code",
   "execution_count": null,
   "id": "8677191e",
   "metadata": {},
   "outputs": [],
   "source": [
    "#Split data into X and y\n",
    "X = data.drop('Food sales', axis=1)\n",
    "y = data['Food sales']"
   ]
  },
  {
   "cell_type": "code",
   "execution_count": null,
   "id": "6c45107f",
   "metadata": {},
   "outputs": [],
   "source": [
    "from sklearn.model_selection import train_test_split\n",
    "np.random.seed(42)\n",
    "X_train, X_test, y_train, y_test =train_test_split(X,y, test_size=0.2)"
   ]
  },
  {
   "cell_type": "code",
   "execution_count": null,
   "id": "a5a38df0",
   "metadata": {},
   "outputs": [],
   "source": [
    "X_train.head()"
   ]
  },
  {
   "cell_type": "code",
   "execution_count": null,
   "id": "7ad63961",
   "metadata": {},
   "outputs": [],
   "source": [
    "from sklearn import tree\n",
    "from sklearn.linear_model import LinearRegression\n",
    "from sklearn import svm\n",
    "\n",
    "models = {'Linear Regression': LinearRegression(),\n",
    "          'Decision Tree': tree.DecisionTreeRegressor(),\n",
    "          'Support Vector Machine': svm.SVR()}\n",
    "\n",
    "def fit_and_score(models, X_train, X_test, y_train, y_test):\n",
    "    np.random.seed(42)\n",
    "    \n",
    "    model_scores = {}\n",
    "    \n",
    "    for name, model in models.items():\n",
    "        print(name, \":\", model)\n",
    "        model.fit(X_train, y_train)\n",
    "        model_scores[name] = model.score(X_test, y_test)\n",
    "        \n",
    "    return model_scores\n",
    "    \n"
   ]
  },
  {
   "cell_type": "code",
   "execution_count": null,
   "id": "cb344189",
   "metadata": {},
   "outputs": [],
   "source": [
    "model_scores = fit_and_score(models = models, X_train = X_train, X_test = X_test, y_train = y_train, y_test = y_test)\n",
    "model_scores"
   ]
  },
  {
   "cell_type": "code",
   "execution_count": null,
   "id": "c67da579",
   "metadata": {},
   "outputs": [],
   "source": []
  }
 ],
 "metadata": {
  "kernelspec": {
   "display_name": "Python 3",
   "language": "python",
   "name": "python3"
  },
  "language_info": {
   "codemirror_mode": {
    "name": "ipython",
    "version": 3
   },
   "file_extension": ".py",
   "mimetype": "text/x-python",
   "name": "python",
   "nbconvert_exporter": "python",
   "pygments_lexer": "ipython3",
   "version": "3.8.8"
  }
 },
 "nbformat": 4,
 "nbformat_minor": 5
}
